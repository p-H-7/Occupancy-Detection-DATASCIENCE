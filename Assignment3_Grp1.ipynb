{
  "nbformat": 4,
  "nbformat_minor": 0,
  "metadata": {
    "colab": {
      "name": "Assignment3_Grp1.ipynb",
      "provenance": [],
      "collapsed_sections": []
    },
    "kernelspec": {
      "name": "python3",
      "display_name": "Python 3"
    },
    "language_info": {
      "name": "python"
    }
  },
  "cells": [
    {
      "cell_type": "markdown",
      "metadata": {
        "id": "ZctxxIZ99DBQ"
      },
      "source": [
        "**Assignment 3: Support Vector Machine Classifier**\n",
        "\n",
        "\n",
        "Machine Learning CS30006\n",
        "\n",
        "\n",
        "Haasita Pinnepu 19CS30021\n",
        "Piriya Sai Swapnika 19CS30035"
      ]
    },
    {
      "cell_type": "code",
      "metadata": {
        "id": "SwUgzZbuHxog"
      },
      "source": [
        "import pandas as pd"
      ],
      "execution_count": 159,
      "outputs": []
    },
    {
      "cell_type": "code",
      "metadata": {
        "id": "mkCaVEtqJQuR",
        "colab": {
          "base_uri": "https://localhost:8080/",
          "height": 0
        },
        "outputId": "7741e1a5-c280-4fa0-84bf-2460722da1dc"
      },
      "source": [
        "dataset = pd.read_csv('datatraining_1.txt')\n",
        "print(dataset.head())"
      ],
      "execution_count": 160,
      "outputs": [
        {
          "output_type": "stream",
          "name": "stdout",
          "text": [
            "                  date  Temperature  Humidity  ...     CO2  HumidityRatio  Occupancy\n",
            "1  2015-02-04 17:51:00        23.18   27.2720  ...  721.25       0.004793          1\n",
            "2  2015-02-04 17:51:59        23.15   27.2675  ...  714.00       0.004783          1\n",
            "3  2015-02-04 17:53:00        23.15   27.2450  ...  713.50       0.004779          1\n",
            "4  2015-02-04 17:54:00        23.15   27.2000  ...  708.25       0.004772          1\n",
            "5  2015-02-04 17:55:00        23.10   27.2000  ...  704.50       0.004757          1\n",
            "\n",
            "[5 rows x 7 columns]\n"
          ]
        }
      ]
    },
    {
      "cell_type": "code",
      "metadata": {
        "colab": {
          "base_uri": "https://localhost:8080/",
          "height": 0
        },
        "id": "UOYcrGnIlD3l",
        "outputId": "16aa28af-6e23-4d98-ef86-505207b13384"
      },
      "source": [
        "dataset = dataset.drop(dataset.columns[0], axis = 1)\n",
        "print(dataset.head())"
      ],
      "execution_count": 161,
      "outputs": [
        {
          "output_type": "stream",
          "name": "stdout",
          "text": [
            "   Temperature  Humidity  Light     CO2  HumidityRatio  Occupancy\n",
            "1        23.18   27.2720  426.0  721.25       0.004793          1\n",
            "2        23.15   27.2675  429.5  714.00       0.004783          1\n",
            "3        23.15   27.2450  426.0  713.50       0.004779          1\n",
            "4        23.15   27.2000  426.0  708.25       0.004772          1\n",
            "5        23.10   27.2000  426.0  704.50       0.004757          1\n"
          ]
        }
      ]
    },
    {
      "cell_type": "code",
      "metadata": {
        "colab": {
          "base_uri": "https://localhost:8080/",
          "height": 0
        },
        "id": "tVey3YhBL-ZR",
        "outputId": "a52ec8eb-561b-4805-f2dc-17b4d318ebec"
      },
      "source": [
        "!pip install fast_ml"
      ],
      "execution_count": 162,
      "outputs": [
        {
          "output_type": "stream",
          "name": "stdout",
          "text": [
            "Requirement already satisfied: fast_ml in /usr/local/lib/python3.7/dist-packages (3.68)\n"
          ]
        }
      ]
    },
    {
      "cell_type": "code",
      "metadata": {
        "colab": {
          "base_uri": "https://localhost:8080/",
          "height": 0
        },
        "id": "Rfi420aELSxE",
        "outputId": "eac4eac6-9371-4dcf-d6f7-4e6e5e15af53"
      },
      "source": [
        "# Question 1 Solution\n",
        "from fast_ml.model_development import train_valid_test_split\n",
        "\n",
        "X_train, y_train, X_valid, y_valid, X_test, y_test = train_valid_test_split(dataset, target='Occupancy', train_size=0.7, valid_size=0.1, test_size=0.2)\n",
        "\n",
        "print(\"Training Data: \" + str(X_train.shape))\n",
        "print(X_train.head())\n",
        "print(\"\\n\")\n",
        "print(\"Validation Data: \" + str(X_valid.shape))\n",
        "print(X_valid.head())\n",
        "print(\"\\n\")\n",
        "print(\"Testing Data: \" + str(X_test.shape))\n",
        "print(X_test.head())"
      ],
      "execution_count": 163,
      "outputs": [
        {
          "output_type": "stream",
          "name": "stdout",
          "text": [
            "Training Data: (14391, 5)\n",
            "      Temperature  Humidity  Light      CO2  HumidityRatio\n",
            "2284      20.8400   24.1500    0.0   576.00       0.003673\n",
            "1341      22.3900   26.7450  449.5  1074.25       0.004478\n",
            "9164      20.8900   30.2000    0.0  1202.00       0.004614\n",
            "7058      21.9175   37.2725  444.0  1762.00       0.006079\n",
            "1409      23.7900   24.2000  133.0   631.50       0.004410\n",
            "\n",
            "\n",
            "Validation Data: (2056, 5)\n",
            "      Temperature  Humidity   Light      CO2  HumidityRatio\n",
            "7948      20.1000   33.0900    0.00   447.50       0.004817\n",
            "7008      21.3900   28.4725  442.75  1003.00       0.004485\n",
            "2817      21.7675   21.8650  460.00   947.25       0.003519\n",
            "2207      20.8900   24.0500    0.00   582.50       0.003669\n",
            "4978      20.0000   34.7300    0.00   544.00       0.005026\n",
            "\n",
            "\n",
            "Testing Data: (4113, 5)\n",
            "      Temperature  Humidity       Light          CO2  HumidityRatio\n",
            "8397        21.29     31.29  433.000000   986.750000       0.004902\n",
            "2191        20.29     18.60    0.000000   437.000000       0.002731\n",
            "6904        21.50     27.26  571.333333  1015.333333       0.004322\n",
            "2866        23.39     27.10  558.500000   563.000000       0.004824\n",
            "159         21.70     26.79    0.000000   520.000000       0.004300\n"
          ]
        }
      ]
    },
    {
      "cell_type": "code",
      "metadata": {
        "id": "H0tPSNXSVcDq",
        "colab": {
          "base_uri": "https://localhost:8080/",
          "height": 0
        },
        "outputId": "c9dc8e31-34d0-4df0-8e89-da29a8b66c84"
      },
      "source": [
        "from sklearn.preprocessing import StandardScaler\n",
        "\n",
        "sc = StandardScaler()\n",
        "X_train_std = sc.fit_transform(X_train)\n",
        "X_valid_std = sc.transform(X_valid)\n",
        "X_test_std = sc.transform(X_test)\n",
        "\n",
        "print(\"Training Data after scaling: \" + str(X_train_std.shape))\n",
        "print(\"\\n\")\n",
        "print(\"Validation Data after scaling: \" + str(X_valid_std.shape))\n",
        "print(\"\\n\")\n",
        "print(\"Testing Data after scaling: \" + str(X_test_std.shape))"
      ],
      "execution_count": 164,
      "outputs": [
        {
          "output_type": "stream",
          "name": "stdout",
          "text": [
            "Training Data after scaling: (14391, 5)\n",
            "\n",
            "\n",
            "Validation Data after scaling: (2056, 5)\n",
            "\n",
            "\n",
            "Testing Data after scaling: (4113, 5)\n"
          ]
        }
      ]
    },
    {
      "cell_type": "markdown",
      "metadata": {
        "id": "FcSKk2Krh6I2"
      },
      "source": [
        "Implementing PCA"
      ]
    },
    {
      "cell_type": "code",
      "metadata": {
        "id": "dzzFvY3dlubQ"
      },
      "source": [
        "from sklearn.decomposition import PCA\n",
        "\n",
        "# intialize pca\n",
        "pca = PCA(n_components=2)\n",
        "\n",
        "# fit and transform data\n",
        "X_train_pca = pca.fit_transform(X_train_std)\n",
        "X_valid_pca = pca.transform(X_valid_std)\n",
        "X_test_pca = pca.transform(X_test_std)"
      ],
      "execution_count": 165,
      "outputs": []
    },
    {
      "cell_type": "code",
      "metadata": {
        "id": "i_EM0JXqn0_n",
        "colab": {
          "base_uri": "https://localhost:8080/",
          "height": 388
        },
        "outputId": "ffbf94d4-b345-454e-bf42-bb316231ac74"
      },
      "source": [
        "import matplotlib.pyplot as plt\n",
        "import numpy as np\n",
        "\n",
        "colors = ['orange', 'g']\n",
        "markers = ['o', 'o']\n",
        "plt.figure(figsize=(8,6))\n",
        "for l, c, m in zip(np.unique(y_train), colors, markers):\n",
        "    plt.scatter(X_train_pca[y_train==l, 0], \n",
        "                X_train_pca[y_train==l, 1], \n",
        "                c=c, label=l, marker=m, cmap='plasma') \n",
        "plt.xlabel('PC 1')\n",
        "plt.ylabel('PC 2')\n",
        "plt.legend()\n",
        "plt.show()"
      ],
      "execution_count": 166,
      "outputs": [
        {
          "output_type": "display_data",
          "data": {
            "image/png": "[encoded data removed]",
            "text/plain": [
              "<Figure size 576x432 with 1 Axes>"
            ]
          },
          "metadata": {
            "needs_background": "light"
          }
        }
      ]
    },
    {
      "cell_type": "code",
      "metadata": {
        "colab": {
          "base_uri": "https://localhost:8080/",
          "height": 0
        },
        "id": "9_0Ad0IcvtZi",
        "outputId": "eef11d5d-c9c7-4e7d-9bbe-2061b0dedb73"
      },
      "source": [
        "from sklearn import svm\n",
        "from sklearn import metrics\n",
        "\n",
        "clf_linear = svm.SVC(kernel='linear') # Linear Kernel\n",
        "clf_linear.fit(X_train_pca, y_train)\n",
        "\n",
        "clf_rbf = svm.SVC(kernel='rbf', gamma=1, C=100) # rbf Kernel\n",
        "clf_rbf.fit(X_train_pca, y_train)\n",
        "\n",
        "clf_poly = svm.SVC(kernel='poly') # polynomial Kernel\n",
        "clf_poly.fit(X_train_pca, y_train)\n",
        "\n",
        "y_pred_linear = clf_linear.predict(X_valid_pca)\n",
        "y_pred_rbf = clf_rbf.predict(X_valid_pca)\n",
        "y_pred_poly = clf_poly.predict(X_valid_pca)\n",
        "\n",
        "print(\" Kernel  |  Accuracy \")\n",
        "print(\"---------|----------- \")\n",
        "print(\" Linear  |\", metrics.accuracy_score(y_valid, y_pred_linear))\n",
        "print(\"  rbf    |\", metrics.accuracy_score(y_valid, y_pred_rbf))\n",
        "print(\" poly    |\", metrics.accuracy_score(y_valid, y_pred_poly))"
      ],
      "execution_count": 167,
      "outputs": [
        {
          "output_type": "stream",
          "name": "stdout",
          "text": [
            " Kernel  |  Accuracy \n",
            "---------|----------- \n",
            " Linear  | 0.936284046692607\n",
            "  rbf    | 0.9732490272373541\n",
            " poly    | 0.9265564202334631\n"
          ]
        }
      ]
    },
    {
      "cell_type": "code",
      "metadata": {
        "colab": {
          "base_uri": "https://localhost:8080/",
          "height": 0
        },
        "id": "GlvfUzJHSIS5",
        "outputId": "cc15be71-ec9a-4d3b-e145-086aac0be6a4"
      },
      "source": [
        "# we choose rbf kernel as it has the highest accuracy\n",
        "y_pred = clf_rbf.predict(X_test_pca)\n",
        "print(\"Test Accuracy: \", metrics.accuracy_score(y_test, y_pred))"
      ],
      "execution_count": 168,
      "outputs": [
        {
          "output_type": "stream",
          "name": "stdout",
          "text": [
            "Test Accuracy:  0.9671772428884027\n"
          ]
        }
      ]
    },
    {
      "cell_type": "markdown",
      "metadata": {
        "id": "iLHNjBD6iDq0"
      },
      "source": [
        "Implementing LDA"
      ]
    },
    {
      "cell_type": "code",
      "metadata": {
        "id": "8fT4DK4ISuKj"
      },
      "source": [
        "from sklearn.discriminant_analysis import LinearDiscriminantAnalysis as LDA\n",
        "\n",
        "lda = LDA(n_components=2)\n",
        "\n",
        "X_train_lda = lda.fit_transform(X_train_std, y_train)\n",
        "X_valid_lda = lda.transform(X_valid_std)\n",
        "X_test_lda = lda.transform(X_test_std)"
      ],
      "execution_count": 169,
      "outputs": []
    },
    {
      "cell_type": "code",
      "metadata": {
        "colab": {
          "base_uri": "https://localhost:8080/",
          "height": 388
        },
        "id": "hIrnoiPIT_3c",
        "outputId": "1503b71e-94e1-4fb6-bff8-1648df62023f"
      },
      "source": [
        "# Plotting LDA data\n",
        "colors = ['orange', 'g']\n",
        "markers = ['o', 'o']\n",
        "plt.figure(figsize=(8,6))\n",
        "val = 0\n",
        "for l, c, m in zip(np.unique(y_train), colors, markers):\n",
        "    plt.scatter(X_train_lda[y_train==l, 0], \n",
        "                np.zeros_like(X_train_lda[y_train==l, 0]) + val, \n",
        "                c=c, label=l, marker=m, cmap='rainbow') \n",
        "plt.xlabel('LD 1')\n",
        "plt.ylabel('LD 2')\n",
        "plt.legend()\n",
        "plt.show()"
      ],
      "execution_count": 170,
      "outputs": [
        {
          "output_type": "display_data",
          "data": {
            "image/png": "[encoded data removed]",
            "text/plain": [
              "<Figure size 576x432 with 1 Axes>"
            ]
          },
          "metadata": {
            "needs_background": "light"
          }
        }
      ]
    },
    {
      "cell_type": "code",
      "metadata": {
        "colab": {
          "base_uri": "https://localhost:8080/",
          "height": 0
        },
        "id": "Sg3c6SjLcUlJ",
        "outputId": "a4b2fef5-afa1-466e-8281-b17f378f88da"
      },
      "source": [
        "clf_linear_lda = svm.SVC(kernel='linear', degree = 2) # Linear Kernel\n",
        "clf_linear_lda.fit(X_train_lda, y_train)\n",
        "y_pred_linear_lda = clf_linear_lda.predict(X_valid_lda)\n",
        "acc_linear_lda = metrics.accuracy_score(y_valid, y_pred_linear_lda)\n",
        "\n",
        "clf_rbf_lda = svm.SVC(kernel='rbf', gamma=1, C=100, degree = 2) # rbf Kernel\n",
        "clf_rbf_lda.fit(X_train_lda, y_train)\n",
        "y_pred_rbf_lda = clf_rbf_lda.predict(X_valid_lda)\n",
        "acc_rbf_lda = metrics.accuracy_score(y_valid, y_pred_rbf_lda)\n",
        "\n",
        "clf_poly_lda = svm.SVC(kernel='poly', degree = 2) # polynomial Kernel\n",
        "clf_poly_lda.fit(X_train_lda, y_train)\n",
        "y_pred_poly_lda = clf_poly_lda.predict(X_valid_lda)\n",
        "acc_poly_lda = metrics.accuracy_score(y_valid, y_pred_poly_lda)\n",
        "\n",
        "print(\" Kernel  |  Accuracy \")\n",
        "print(\"---------|----------- \")\n",
        "print(\" Linear  |\", acc_linear_lda )\n",
        "print(\"  rbf    |\", acc_rbf_lda )\n",
        "print(\" poly    |\", acc_poly_lda )"
      ],
      "execution_count": 171,
      "outputs": [
        {
          "output_type": "stream",
          "name": "stdout",
          "text": [
            " Kernel  |  Accuracy \n",
            "---------|----------- \n",
            " Linear  | 0.9888132295719845\n",
            "  rbf    | 0.9892996108949417\n",
            " poly    | 0.9892996108949417\n"
          ]
        }
      ]
    },
    {
      "cell_type": "code",
      "metadata": {
        "id": "1Of-ZkNhckjV"
      },
      "source": [
        "# comparing validation accuracies to get best kernel for lda\n",
        "if (acc_linear_lda >= acc_rbf_lda) and (acc_linear_lda >= acc_poly_lda):\n",
        "  best = 0\n",
        "elif (acc_rbf_lda >= acc_linear_lda) and (acc_rbf_lda >= acc_poly_lda):\n",
        "  best = 1\n",
        "else:\n",
        "  best = 2"
      ],
      "execution_count": 172,
      "outputs": []
    },
    {
      "cell_type": "code",
      "metadata": {
        "colab": {
          "base_uri": "https://localhost:8080/",
          "height": 0
        },
        "id": "es-wa1qLq5vQ",
        "outputId": "98566a7e-93d1-45f8-a2e2-cc258a7be199"
      },
      "source": [
        "if(best == 0):\n",
        "  print(\"The kernel we choose is Linear with\")\n",
        "  y_pred_lda = clf_linear_lda.predict(X_test_lda)\n",
        "  print(\"Test Accuracy: \", metrics.accuracy_score(y_test, y_pred_lda))\n",
        "elif(best == 1):\n",
        "  print(\"The kernel we choose is rbf with\")\n",
        "  y_pred_lda = clf_rbf_lda.predict(X_test_lda)\n",
        "  print(\"Test Accuracy: \", metrics.accuracy_score(y_test, y_pred_lda))\n",
        "else:\n",
        "  print(\"The kernel we choose is poly with\")\n",
        "  y_pred_lda = clf_poly_lda.predict(X_test_lda)\n",
        "  print(\"Test Accuracy: \", metrics.accuracy_score(y_test, y_pred_lda))\n"
      ],
      "execution_count": 173,
      "outputs": [
        {
          "output_type": "stream",
          "name": "stdout",
          "text": [
            "The kernel we choose is rbf with\n",
            "Test Accuracy:  0.9878434232920009\n"
          ]
        }
      ]
    }
  ]
}